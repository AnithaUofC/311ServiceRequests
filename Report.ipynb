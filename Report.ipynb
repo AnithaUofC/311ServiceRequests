{
 "cells": [
  {
   "cell_type": "markdown",
   "id": "6989a1cc-6d52-4f1c-bd8d-2399704b3eb3",
   "metadata": {},
   "source": [
    "\n",
    "#    311 Service Requests Data Analysis and Visualization\n",
    "##   DATA 601 Project Report - Team 4 \n",
    "###  Team Members : Anitha Joseph, Jincy Thomas, Megha Radhakrishnan Sanitha "
   ]
  },
  {
   "cell_type": "markdown",
   "id": "baccd508-b8fd-43f6-beeb-992d92168195",
   "metadata": {},
   "source": [
    "\n",
    "#### INTRODUCTION\n",
    "\n",
    "    311 is a non-emergency government service that helps citizens to report issues and access city information. It can be accessed by phone, online, or through mobile apps and often includes multilingual support and services for vulnerable populations like the senior residents. The 311 system collects all requests, which are then routed to the responsible city department for resolution. It operates 24/7 and allows users to track the progress of their requests, ensuring transparency and accountability. Thus the 311 services make the lives of the residents easier and saves their time by eliminating the need to contact multiple departments for resolving their concerns. The user-friendly interface of 311 also makes the communication with the local government effortless, convenient and accessible for everyone.\n",
    "\n",
    "    Analysis of 311 data over a long period of time helps us in determining the most frequent service requests which can be addressed more efficiently by allocating adequate resources. This can also be used to identify the efficiencies of different departments and the gaps where improvement is required. Seasonal patterns and long term trends can also be identified which can be used to predict the future demands and optimize the public services. By tracking types of requests, response times, and areas with frequent complaints, resources can be allocated more effectively, and operational inefficiencies can be identified and resolved. The residents will get a clear picture regarding the handling of their concerns which promotes transparency. Proactive planning is made possible, allowing for better resource distribution and improved service delivery. Ultimately, systemic issues can be identified, and solutions can be developed,leading to improved city planning and enhanced community satisfaction."
   ]
  },
  {
   "cell_type": "markdown",
   "id": "069c3b64-88a6-4455-a6be-415471292354",
   "metadata": {},
   "source": [
    "\n",
    "#### GUIDING QUESTIONS\n",
    "\n",
    "    The major guiding questions for the analysis of 311 service requests and the the ways in which the insights from answering these questions can be utilized are as follows:\n",
    "    1. Geographic Analysis\n",
    "    ● Which community or location has the largest number of service requests?\n",
    "    ● Are there any specific needs for certain areas?\n",
    "    High need areas can be prioritized and resources can be allocated where they are most required.\n",
    "    \n",
    "    2. Seasonal Trends\n",
    "    ● During which seasons do service requests occur most often?\n",
    "    ● How do service requests change over seasons? Are there any identifiable patterns?\n",
    "    Seasonal patterns are identified thus helping to focus resources effectively.\n",
    "    \n",
    "    3. Request Sources\n",
    "    ● What is the primary source of service requests: phone calls or online submissions (web)?\n",
    "    Interfaces can be upgraded based on user preferences.\n",
    "    \n",
    "    4. Types of Service Requests\n",
    "    ● What is the service requested most frequently?\n",
    "    Helps to identify and allocate adequate resources for the most needed service.\n",
    "    \n",
    "    5. Response Efficiency\n",
    "    ● Which agency handles the most and least number of service requests?\n",
    "    ● What is the average response rate and time for resolving for service requests?\n",
    "    ● Who are the most efficient agents in terms of response and resolution times?\n",
    "    ● How does the response efficiency vary across different years?\n",
    "    Track the department efficiencies and identify areas where improvement is required.\n",
    "    \n",
    "    6. Trends Over Time\n",
    "    ● How has the volume and type of service requests changed over the past five years?\n",
    "    ● Are there noticeable trends in requests that could be used for future planning?\n",
    "    Future demands can be anticipated, allowing for better preparedness."
   ]
  },
  {
   "attachments": {},
   "cell_type": "markdown",
   "id": "d10602ec-e413-4602-a51b-e2d227d37bbe",
   "metadata": {},
   "source": [
    "\n",
    "#### DATASET\n",
    "\n",
    "##### Data description\n",
    "\n",
    "    The data for this analysis is sourced from The City of Calgary’s open data portal, specifically the \"311 Service Requests -Services and Amenities\" dataset (The City of Calgary,2025) . We have included public service requests submitted via 311 for 2 years- 2023 and 2024, consisting of 1062842 rows and 15 columns, structured in a tabular format. Each row represents an individual service request.\n",
    "    \n",
    "##### Format and Structure\n",
    "    The data consists of several datasets depending on the city or organization's open data portal. Each dataset typically contains the following columns: \n",
    "\n",
    "    Column                Datatype   Description\n",
    "    service_request_id     object    The unique identifier for an individual request.\n",
    "    requested_date         object    The date the request was submitted.\n",
    "    updated_date           object    The most recent date the request was updated.\n",
    "    closed_date            object    The date the request was closed.\n",
    "    status_description     object    The current status of the request (e.g. open, closed).\n",
    "    source                 object    The channel used to submit the request\n",
    "    service_name           object    The type of service requested.\n",
    "    agency_responsible     object    The department responsible for this request.\n",
    "    address               float64    The location of the service request (if applicable).\n",
    "    comm_code              object    The community code associated with the service request location.\n",
    "    comm_name              object    The community name associated with the service request location.\n",
    "    location_type          object    The type of location information provided for this service request.\n",
    "    longitude             float64    The longitude of the service request.\n",
    "    latitude              float64    The latitude of the service request.\n",
    "    point                  object    The spatial coordinates based on latitude and longitude."
   ]
  },
  {
   "cell_type": "markdown",
   "id": "c694fe1b-f6ea-42a1-9378-b813c979cea5",
   "metadata": {},
   "source": [
    "    The data is sourced from The City of Calgary’s open data portal, 311 Service Requests - Services and Amenities.The data is publicly available and used with permission as per the open data policy. This data is provided by the City of Calgary at https://data.calgary.ca/Services-and-Amenities/311-Service-Requests/iahh-g8bj/about_data and all usagecomplies with their data usage and attribution requirements listed in the license URL https://data.calgary.ca/d/Open-Data-Terms/u45n-7awa ."
   ]
  }
 ],
 "metadata": {
  "kernelspec": {
   "display_name": "Python 3 (ipykernel)",
   "language": "python",
   "name": "python3"
  },
  "language_info": {
   "codemirror_mode": {
    "name": "ipython",
    "version": 3
   },
   "file_extension": ".py",
   "mimetype": "text/x-python",
   "name": "python",
   "nbconvert_exporter": "python",
   "pygments_lexer": "ipython3",
   "version": "3.12.7"
  }
 },
 "nbformat": 4,
 "nbformat_minor": 5
}
